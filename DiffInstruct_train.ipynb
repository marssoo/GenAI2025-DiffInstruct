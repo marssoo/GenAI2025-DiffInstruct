{
 "cells": [
  {
   "cell_type": "markdown",
   "metadata": {},
   "source": [
    "# Training of DiffInstruct\n",
    "We need a notebook to run on google collab as loading two diffusion models, a GAN and data in the vRAM is too much for a 8GB laptop GPU. Who would have thought."
   ]
  },
  {
   "cell_type": "code",
   "execution_count": null,
   "metadata": {},
   "outputs": [],
   "source": [
    "import torch\n",
    "from torchvision import datasets, transforms\n",
    "from torch.utils.data import DataLoader\n",
    "from DiffInstruct import train_diff_instruct\n",
    "from DiffInstruct import w"
   ]
  },
  {
   "cell_type": "markdown",
   "metadata": {},
   "source": [
    "Parameters:"
   ]
  },
  {
   "cell_type": "code",
   "execution_count": null,
   "metadata": {},
   "outputs": [],
   "source": [
    "batch_size = 128\n",
    "lr_phi = 1e-4\n",
    "lr_theta = 1e-4\n",
    "timesteps = 2000\n",
    "latent_dim = 128\n",
    "patience = 10\n",
    "epochs = 50\n",
    "device = 'cuda' if torch.cuda.is_available() else 'cpu'\n",
    "\n",
    "dm_path = \"DM_models/UNet_4layers_128hc_2000steps.pth\"\n",
    "generator_path = \"GAN_models/best_generator.pth\"\n",
    "save_path_phi = \"DI_models/DI_phi.pth\"\n",
    "save_path_theta = \"DI_models/DI_generator.pth\""
   ]
  },
  {
   "cell_type": "markdown",
   "metadata": {},
   "source": [
    "Load the data:"
   ]
  },
  {
   "cell_type": "code",
   "execution_count": null,
   "metadata": {},
   "outputs": [],
   "source": [
    "transform = transforms.Compose([\n",
    "    transforms.ToTensor(),\n",
    "    transforms.Normalize((0.5,), (0.5,))\n",
    "])\n",
    "dataset = datasets.FashionMNIST(root=\"./data\", train=True, transform=transform, download=True)\n",
    "dataloader = DataLoader(dataset, batch_size=batch_size, shuffle=True)"
   ]
  },
  {
   "cell_type": "markdown",
   "metadata": {},
   "source": [
    "Set training args:"
   ]
  },
  {
   "cell_type": "code",
   "execution_count": null,
   "metadata": {},
   "outputs": [],
   "source": [
    "betas = torch.linspace(1e-4, 0.02, timesteps).to(device)\n",
    "alphas = 1.0 - betas\n",
    "sqrt_alphas_cumprod = torch.sqrt(torch.cumprod(alphas, axis=0)).to(device)\n",
    "sqrt_one_minus_alphas_cumprod = torch.sqrt(1.0 - torch.cumprod(alphas, axis=0)).to(device)"
   ]
  },
  {
   "cell_type": "markdown",
   "metadata": {},
   "source": [
    "Now we train :"
   ]
  },
  {
   "cell_type": "code",
   "execution_count": null,
   "metadata": {},
   "outputs": [],
   "source": [
    "train_diff_instruct(\n",
    "    dm_path=dm_path,\n",
    "    generator_path=generator_path,\n",
    "    dataloader=dataloader,\n",
    "    betas=betas,\n",
    "    sqrt_alphas_cumprod=sqrt_alphas_cumprod,\n",
    "    sqrt_one_minus_alphas_cumprod=sqrt_one_minus_alphas_cumprod,\n",
    "    w=w,\n",
    "    lr_phi=lr_phi,\n",
    "    lr_theta=lr_theta,\n",
    "    save_path_phi=save_path_phi,\n",
    "    save_path_theta=save_path_theta,\n",
    "    patience=patience,\n",
    "    device=device,\n",
    "    epochs=epochs,\n",
    "    timesteps=timesteps,\n",
    "    latent_dim=latent_dim\n",
    ")"
   ]
  }
 ],
 "metadata": {
  "language_info": {
   "name": "python"
  }
 },
 "nbformat": 4,
 "nbformat_minor": 2
}
